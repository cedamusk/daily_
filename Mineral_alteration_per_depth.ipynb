{
  "nbformat": 4,
  "nbformat_minor": 0,
  "metadata": {
    "colab": {
      "provenance": [],
      "mount_file_id": "1olMi_E79qRiy9tp4EFsjMk4K2AtpNNv_",
      "authorship_tag": "ABX9TyP1t/AZYvxPbh0oQGGBrKsL",
      "include_colab_link": true
    },
    "kernelspec": {
      "name": "python3",
      "display_name": "Python 3"
    },
    "language_info": {
      "name": "python"
    }
  },
  "cells": [
    {
      "cell_type": "markdown",
      "metadata": {
        "id": "view-in-github",
        "colab_type": "text"
      },
      "source": [
        "<a href=\"https://colab.research.google.com/github/cedamusk/daily_/blob/main/Mineral_alteration_per_depth.ipynb\" target=\"_parent\"><img src=\"https://colab.research.google.com/assets/colab-badge.svg\" alt=\"Open In Colab\"/></a>"
      ]
    },
    {
      "cell_type": "code",
      "execution_count": 1,
      "metadata": {
        "colab": {
          "base_uri": "https://localhost:8080/"
        },
        "id": "JaDMGXTznzZ7",
        "outputId": "773f3b14-81a9-4996-f031-cb95a9d5f586"
      },
      "outputs": [
        {
          "output_type": "stream",
          "name": "stdout",
          "text": [
            "Requirement already satisfied: plotly in /usr/local/lib/python3.10/dist-packages (5.24.1)\n",
            "Requirement already satisfied: pandas in /usr/local/lib/python3.10/dist-packages (2.2.2)\n",
            "Requirement already satisfied: tenacity>=6.2.0 in /usr/local/lib/python3.10/dist-packages (from plotly) (9.0.0)\n",
            "Requirement already satisfied: packaging in /usr/local/lib/python3.10/dist-packages (from plotly) (24.2)\n",
            "Requirement already satisfied: numpy>=1.22.4 in /usr/local/lib/python3.10/dist-packages (from pandas) (1.26.4)\n",
            "Requirement already satisfied: python-dateutil>=2.8.2 in /usr/local/lib/python3.10/dist-packages (from pandas) (2.8.2)\n",
            "Requirement already satisfied: pytz>=2020.1 in /usr/local/lib/python3.10/dist-packages (from pandas) (2024.2)\n",
            "Requirement already satisfied: tzdata>=2022.7 in /usr/local/lib/python3.10/dist-packages (from pandas) (2024.2)\n",
            "Requirement already satisfied: six>=1.5 in /usr/local/lib/python3.10/dist-packages (from python-dateutil>=2.8.2->pandas) (1.16.0)\n"
          ]
        }
      ],
      "source": [
        "!pip install plotly pandas"
      ]
    },
    {
      "cell_type": "code",
      "source": [
        "import os\n",
        "from google.colab import drive"
      ],
      "metadata": {
        "id": "wxAlOcsGpSjz"
      },
      "execution_count": 2,
      "outputs": []
    },
    {
      "cell_type": "code",
      "source": [
        "def mount_google_drive():\n",
        "  drive.mount('/content/drive')"
      ],
      "metadata": {
        "id": "1YSkvCrupdp2"
      },
      "execution_count": 3,
      "outputs": []
    },
    {
      "cell_type": "code",
      "source": [
        "def check_directory_contents(path):\n",
        "  for item in os.listdir(path):\n",
        "    print(item)"
      ],
      "metadata": {
        "id": "2sxzklUqplga"
      },
      "execution_count": 4,
      "outputs": []
    },
    {
      "cell_type": "code",
      "source": [
        "mount_google_drive()\n",
        "dataset_path='/content/drive/MyDrive/Alteration table'\n",
        "check_directory_contents(dataset_path)"
      ],
      "metadata": {
        "colab": {
          "base_uri": "https://localhost:8080/"
        },
        "id": "A5ipn5Wepxl6",
        "outputId": "3344ca28-f375-421b-955e-4961ad111179"
      },
      "execution_count": 7,
      "outputs": [
        {
          "output_type": "stream",
          "name": "stdout",
          "text": [
            "Drive already mounted at /content/drive; to attempt to forcibly remount, call drive.mount(\"/content/drive\", force_remount=True).\n",
            "ALTERATION TABLE.csv\n"
          ]
        }
      ]
    },
    {
      "cell_type": "code",
      "source": [
        "import pandas as pd\n",
        "import numpy as np\n",
        "import plotly.express as px\n",
        "import plotly.graph_objs as go"
      ],
      "metadata": {
        "id": "a8kEzCAgqE7m"
      },
      "execution_count": 8,
      "outputs": []
    },
    {
      "cell_type": "code",
      "source": [
        "df=pd.read_csv('/content/drive/MyDrive/Alteration table/ALTERATION TABLE.csv')"
      ],
      "metadata": {
        "colab": {
          "base_uri": "https://localhost:8080/",
          "height": 187
        },
        "id": "cl5O5aoirFYG",
        "outputId": "f6157c83-7cd7-46ae-f413-1d6f971535f1"
      },
      "execution_count": 13,
      "outputs": [
        {
          "output_type": "execute_result",
          "data": {
            "text/plain": [
              "<bound method NDFrame.head of     WELL ID   LONGITUDE     LATITUDE  ELEVATION     DEPTH     D SPACING(A)  \\\n",
              "0    OW 922  208583.588  9899691.764   2117.432  318-320   No clear peaks    \n",
              "1    OW 922  208583.588  9899691.764   2117.432  338-340             14.11   \n",
              "2    OW 922  208583.588  9899691.764   2117.432  358-360             12.48   \n",
              "3    OW 922  208583.588  9899691.764   2117.432  380-382             15.36   \n",
              "4    OW 922  208583.588  9899691.764   2117.432  398-400             13.85   \n",
              "5    OW 922  208583.588  9899691.764   2117.432  418-420   No clear peaks    \n",
              "6    OW 922  208583.588  9899691.764   2117.432  438-440             15.66   \n",
              "7    OW 922  208583.588  9899691.764   2117.432  474-476             10.03   \n",
              "8    OW 922  208583.588  9899691.764   2117.432  538-540             10.04   \n",
              "9    OW 922  208583.588  9899691.764   2117.432  558-560   No clear peaks    \n",
              "10   OW 922  208583.588  9899691.764   2117.432  738-740              9.96   \n",
              "11   OW 922  208583.588  9899691.764   2117.432  758-760             10.03   \n",
              "12   OW 922  208583.588  9899691.764   2117.432  778-780             10.14   \n",
              "13   OW 922  208583.588  9899691.764   2117.432  952-960   No clear peaks    \n",
              "14   OW 922  208583.588  9899691.764   2117.432  978-980   No clear peaks    \n",
              "15  OW 905A  202777.748  9901245.501   1948.088   332-334            14.66   \n",
              "16  OW 905A  202777.748  9901245.501   1948.088   352-354            14.59   \n",
              "17  OW 905A  202777.748  9901245.501   1948.088   372-374            13.51   \n",
              "18  OW 905A  202777.748  9901245.501   1948.088   392-394            13.51   \n",
              "19  OW 905A  202777.748  9901245.501   1948.088   412-414            13.51   \n",
              "20  OW 905A  202777.748  9901245.501   1948.088   432-434            13.51   \n",
              "21  OW 905A  202777.748  9901245.501   1948.088   472-474            12.93   \n",
              "22  OW 905A  202777.748  9901245.501   1948.088   492-494            12.93   \n",
              "23  OW 905A  202777.748  9901245.501   1948.088   512-514            12.93   \n",
              "24  OW 905A  202777.748  9901245.501   1948.088   572-574            15.35   \n",
              "25  OW 905A  202777.748  9901245.501   1948.088   612-614            14.68   \n",
              "26  OW 905A  202777.748  9901245.501   1948.088   652-654            16.03   \n",
              "27  OW 905A  202777.748  9901245.501   1948.088   672-674     15.73, 10.40   \n",
              "28  OW 905A  202777.748  9901245.501   1948.088   692-694   No clear peaks   \n",
              "29  OW 905A  202777.748  9901245.501   1948.088   712-714   No clear peaks   \n",
              "30  OW 905A  202777.748  9901245.501   1948.088   732-734     14.85, 10.29   \n",
              "31  OW 905A  202777.748  9901245.501   1948.088   752-754     14.85, 10.29   \n",
              "32  OW 905A  202777.748  9901245.501   1948.088   772-774     14.78, 10.41   \n",
              "33  OW 905A  202777.748  9901245.501   1948.088   812-814            15.35   \n",
              "34  OW 905A  202777.748  9901245.501   1948.088   852-854            16.26   \n",
              "35  OW 905A  202777.748  9901245.501   1948.088   872-874            12.91   \n",
              "36  OW 905A  202777.748  9901245.501   1948.088   892-894            15.46   \n",
              "37  OW 905A  202777.748  9901245.501   1948.088   912-914            13.15   \n",
              "38  OW 905A  202777.748  9901245.501   1948.088   952-954            15.33   \n",
              "39  OW 905A  202777.748  9901245.501   1948.088   972-974            13.31   \n",
              "\n",
              "   MINERAL ALTERATION  \n",
              "0                Sm.   \n",
              "1                Sm.   \n",
              "2                Sm.   \n",
              "3                Sm.   \n",
              "4     No clear peaks   \n",
              "5                Sm.   \n",
              "6           Chl: ill   \n",
              "7           Chl: ill   \n",
              "8     No clear peaks   \n",
              "9                ill   \n",
              "10               ill   \n",
              "11               ill   \n",
              "12    No clear peaks   \n",
              "13    No clear peaks   \n",
              "14    No clear peaks   \n",
              "15                Sm.  \n",
              "16                Sm.  \n",
              "17                Sm.  \n",
              "18                Sm.  \n",
              "19                Sm.  \n",
              "20                Sm.  \n",
              "21                Sm.  \n",
              "22                Sm.  \n",
              "23                Sm.  \n",
              "24                Sm.  \n",
              "25                Sm.  \n",
              "26                Sm.  \n",
              "27           Chl: ill  \n",
              "28     No clear peaks  \n",
              "29     No clear peaks  \n",
              "30           Chl: ill  \n",
              "31           Chl: ill  \n",
              "32           Chl: ill  \n",
              "33                Sm.  \n",
              "34                Sm.  \n",
              "35             Chl:sm  \n",
              "36             Chl:sm  \n",
              "37             Chl:sm  \n",
              "38             Chl:sm  \n",
              "39                Sm.  >"
            ],
            "text/html": [
              "<div style=\"max-width:800px; border: 1px solid var(--colab-border-color);\"><style>\n",
              "      pre.function-repr-contents {\n",
              "        overflow-x: auto;\n",
              "        padding: 8px 12px;\n",
              "        max-height: 500px;\n",
              "      }\n",
              "\n",
              "      pre.function-repr-contents.function-repr-contents-collapsed {\n",
              "        cursor: pointer;\n",
              "        max-height: 100px;\n",
              "      }\n",
              "    </style>\n",
              "    <pre style=\"white-space: initial; background:\n",
              "         var(--colab-secondary-surface-color); padding: 8px 12px;\n",
              "         border-bottom: 1px solid var(--colab-border-color);\"><b>pandas.core.generic.NDFrame.head</b><br/>def head(n: int=5) -&gt; Self</pre><pre class=\"function-repr-contents function-repr-contents-collapsed\" style=\"\"><a class=\"filepath\" style=\"display:none\" href=\"#\">/usr/local/lib/python3.10/dist-packages/pandas/core/generic.py</a>Return the first `n` rows.\n",
              "\n",
              "This function returns the first `n` rows for the object based\n",
              "on position. It is useful for quickly testing if your object\n",
              "has the right type of data in it.\n",
              "\n",
              "For negative values of `n`, this function returns all rows except\n",
              "the last `|n|` rows, equivalent to ``df[:n]``.\n",
              "\n",
              "If n is larger than the number of rows, this function returns all rows.\n",
              "\n",
              "Parameters\n",
              "----------\n",
              "n : int, default 5\n",
              "    Number of rows to select.\n",
              "\n",
              "Returns\n",
              "-------\n",
              "same type as caller\n",
              "    The first `n` rows of the caller object.\n",
              "\n",
              "See Also\n",
              "--------\n",
              "DataFrame.tail: Returns the last `n` rows.\n",
              "\n",
              "Examples\n",
              "--------\n",
              "&gt;&gt;&gt; df = pd.DataFrame({&#x27;animal&#x27;: [&#x27;alligator&#x27;, &#x27;bee&#x27;, &#x27;falcon&#x27;, &#x27;lion&#x27;,\n",
              "...                    &#x27;monkey&#x27;, &#x27;parrot&#x27;, &#x27;shark&#x27;, &#x27;whale&#x27;, &#x27;zebra&#x27;]})\n",
              "&gt;&gt;&gt; df\n",
              "      animal\n",
              "0  alligator\n",
              "1        bee\n",
              "2     falcon\n",
              "3       lion\n",
              "4     monkey\n",
              "5     parrot\n",
              "6      shark\n",
              "7      whale\n",
              "8      zebra\n",
              "\n",
              "Viewing the first 5 lines\n",
              "\n",
              "&gt;&gt;&gt; df.head()\n",
              "      animal\n",
              "0  alligator\n",
              "1        bee\n",
              "2     falcon\n",
              "3       lion\n",
              "4     monkey\n",
              "\n",
              "Viewing the first `n` lines (three in this case)\n",
              "\n",
              "&gt;&gt;&gt; df.head(3)\n",
              "      animal\n",
              "0  alligator\n",
              "1        bee\n",
              "2     falcon\n",
              "\n",
              "For negative values of `n`\n",
              "\n",
              "&gt;&gt;&gt; df.head(-3)\n",
              "      animal\n",
              "0  alligator\n",
              "1        bee\n",
              "2     falcon\n",
              "3       lion\n",
              "4     monkey\n",
              "5     parrot</pre>\n",
              "      <script>\n",
              "      if (google.colab.kernel.accessAllowed && google.colab.files && google.colab.files.view) {\n",
              "        for (const element of document.querySelectorAll('.filepath')) {\n",
              "          element.style.display = 'block'\n",
              "          element.onclick = (event) => {\n",
              "            event.preventDefault();\n",
              "            event.stopPropagation();\n",
              "            google.colab.files.view(element.textContent, 5818);\n",
              "          };\n",
              "        }\n",
              "      }\n",
              "      for (const element of document.querySelectorAll('.function-repr-contents')) {\n",
              "        element.onclick = (event) => {\n",
              "          event.preventDefault();\n",
              "          event.stopPropagation();\n",
              "          element.classList.toggle('function-repr-contents-collapsed');\n",
              "        };\n",
              "      }\n",
              "      </script>\n",
              "      </div>"
            ]
          },
          "metadata": {},
          "execution_count": 13
        }
      ]
    },
    {
      "cell_type": "code",
      "source": [
        "def process_mineral_alteration(alteration):\n",
        "  if pd.isna(alteration) or alteration=='No Clear peaks':\n",
        "    return 'No Alteration'\n",
        "  return alteration.strip()"
      ],
      "metadata": {
        "id": "6jLxNxk2rKb_"
      },
      "execution_count": 14,
      "outputs": []
    },
    {
      "cell_type": "code",
      "source": [
        "df['Processed_Alteration']=df['MINERAL ALTERATION'].apply(process_mineral_alteration)"
      ],
      "metadata": {
        "id": "WPntVbLAsRih"
      },
      "execution_count": 15,
      "outputs": []
    },
    {
      "cell_type": "code",
      "source": [
        "unique_alterations=df[\"Processed_Alteration\"].unique()\n",
        "color_map={\n",
        "    'Sm.': '#FF0000',\n",
        "    'Chl:ill':'#00FF00',\n",
        "    'ill':'#800080',\n",
        "    'Chl:sm':'#FFFF00',\n",
        "    'No Alteration':'#808080'\n",
        "}"
      ],
      "metadata": {
        "id": "nAeybrUjsklO"
      },
      "execution_count": 18,
      "outputs": []
    },
    {
      "cell_type": "code",
      "source": [
        "fig=go.Figure(data=[\n",
        "    go.Scatter3d(\n",
        "        x=df[df['Processed_Alteration']==alt]['LONGITUDE'],\n",
        "        y=df[df['Processed_Alteration']==alt]['LATITUDE'],\n",
        "        z=df[df['Processed_Alteration']==alt]['DEPTH'],\n",
        "        mode='markers',\n",
        "        name=alt,\n",
        "        marker=dict(\n",
        "            size=5,\n",
        "            color=color_map.get(alt, '#000000'),\n",
        "            opacity=0.8\n",
        "        ),\n",
        "        hovertemplate=\n",
        "        '<b>Longitude</b>:%{x}<br>'+\n",
        "        '<b>Latitude</b>:%{y}<br>'+\n",
        "        '<b>Depth</b>:%{z}<br>'+\n",
        "        '<b>Alteration</b>:'+alt+'<extra></extra>'\n",
        "\n",
        "    )for alt in unique_alterations\n",
        "])"
      ],
      "metadata": {
        "id": "SAmU2x0BtKDd"
      },
      "execution_count": 19,
      "outputs": []
    },
    {
      "cell_type": "code",
      "source": [
        "fig.update_layout(\n",
        "    title='Mineral Alteration 3D Visualization',\n",
        "    scene=dict(\n",
        "        xaxis_title='Longitude',\n",
        "        yaxis_title='Latitude',\n",
        "        zaxis_title='Depth',\n",
        "        zaxis=dict(autorange='reversed')\n",
        "    ),\n",
        "    height=800,\n",
        "    width=1200\n",
        ")"
      ],
      "metadata": {
        "colab": {
          "base_uri": "https://localhost:8080/",
          "height": 817
        },
        "id": "qzpeWQcyudAy",
        "outputId": "3dec1dbe-cba1-4b08-cceb-3f1de0d6022a"
      },
      "execution_count": 20,
      "outputs": [
        {
          "output_type": "display_data",
          "data": {
            "text/html": [
              "<html>\n",
              "<head><meta charset=\"utf-8\" /></head>\n",
              "<body>\n",
              "    <div>            <script src=\"https://cdnjs.cloudflare.com/ajax/libs/mathjax/2.7.5/MathJax.js?config=TeX-AMS-MML_SVG\"></script><script type=\"text/javascript\">if (window.MathJax && window.MathJax.Hub && window.MathJax.Hub.Config) {window.MathJax.Hub.Config({SVG: {font: \"STIX-Web\"}});}</script>                <script type=\"text/javascript\">window.PlotlyConfig = {MathJaxConfig: 'local'};</script>\n",
              "        <script charset=\"utf-8\" src=\"https://cdn.plot.ly/plotly-2.35.2.min.js\"></script>                <div id=\"7225b220-effb-456c-a07e-9a8bd47867e9\" class=\"plotly-graph-div\" style=\"height:800px; width:1200px;\"></div>            <script type=\"text/javascript\">                                    window.PLOTLYENV=window.PLOTLYENV || {};                                    if (document.getElementById(\"7225b220-effb-456c-a07e-9a8bd47867e9\")) {                    Plotly.newPlot(                        \"7225b220-effb-456c-a07e-9a8bd47867e9\",                        [{\"hovertemplate\":\"\\u003cb\\u003eLongitude\\u003c\\u002fb\\u003e:%{x}\\u003cbr\\u003e\\u003cb\\u003eLatitude\\u003c\\u002fb\\u003e:%{y}\\u003cbr\\u003e\\u003cb\\u003eDepth\\u003c\\u002fb\\u003e:%{z}\\u003cbr\\u003e\\u003cb\\u003eAlteration\\u003c\\u002fb\\u003e:Sm.\\u003cextra\\u003e\\u003c\\u002fextra\\u003e\",\"marker\":{\"color\":\"#FF0000\",\"opacity\":0.8,\"size\":5},\"mode\":\"markers\",\"name\":\"Sm.\",\"x\":[208583.588,208583.588,208583.588,208583.588,208583.588,202777.748,202777.748,202777.748,202777.748,202777.748,202777.748,202777.748,202777.748,202777.748,202777.748,202777.748,202777.748,202777.748,202777.748,202777.748],\"y\":[9899691.764,9899691.764,9899691.764,9899691.764,9899691.764,9901245.501,9901245.501,9901245.501,9901245.501,9901245.501,9901245.501,9901245.501,9901245.501,9901245.501,9901245.501,9901245.501,9901245.501,9901245.501,9901245.501,9901245.501],\"z\":[\"318-320 \",\"338-340 \",\"358-360 \",\"380-382 \",\"418-420 \",\"332-334\",\"352-354\",\"372-374\",\"392-394\",\"412-414\",\"432-434\",\"472-474\",\"492-494\",\"512-514\",\"572-574\",\"612-614\",\"652-654\",\"812-814\",\"852-854\",\"972-974\"],\"type\":\"scatter3d\"},{\"hovertemplate\":\"\\u003cb\\u003eLongitude\\u003c\\u002fb\\u003e:%{x}\\u003cbr\\u003e\\u003cb\\u003eLatitude\\u003c\\u002fb\\u003e:%{y}\\u003cbr\\u003e\\u003cb\\u003eDepth\\u003c\\u002fb\\u003e:%{z}\\u003cbr\\u003e\\u003cb\\u003eAlteration\\u003c\\u002fb\\u003e:No clear peaks\\u003cextra\\u003e\\u003c\\u002fextra\\u003e\",\"marker\":{\"color\":\"#000000\",\"opacity\":0.8,\"size\":5},\"mode\":\"markers\",\"name\":\"No clear peaks\",\"x\":[208583.588,208583.588,208583.588,208583.588,208583.588,202777.748,202777.748],\"y\":[9899691.764,9899691.764,9899691.764,9899691.764,9899691.764,9901245.501,9901245.501],\"z\":[\"398-400 \",\"538-540 \",\"778-780 \",\"952-960 \",\"978-980 \",\"692-694\",\"712-714\"],\"type\":\"scatter3d\"},{\"hovertemplate\":\"\\u003cb\\u003eLongitude\\u003c\\u002fb\\u003e:%{x}\\u003cbr\\u003e\\u003cb\\u003eLatitude\\u003c\\u002fb\\u003e:%{y}\\u003cbr\\u003e\\u003cb\\u003eDepth\\u003c\\u002fb\\u003e:%{z}\\u003cbr\\u003e\\u003cb\\u003eAlteration\\u003c\\u002fb\\u003e:Chl: ill\\u003cextra\\u003e\\u003c\\u002fextra\\u003e\",\"marker\":{\"color\":\"#000000\",\"opacity\":0.8,\"size\":5},\"mode\":\"markers\",\"name\":\"Chl: ill\",\"x\":[208583.588,208583.588,202777.748,202777.748,202777.748,202777.748],\"y\":[9899691.764,9899691.764,9901245.501,9901245.501,9901245.501,9901245.501],\"z\":[\"438-440 \",\"474-476 \",\"672-674\",\"732-734\",\"752-754\",\"772-774\"],\"type\":\"scatter3d\"},{\"hovertemplate\":\"\\u003cb\\u003eLongitude\\u003c\\u002fb\\u003e:%{x}\\u003cbr\\u003e\\u003cb\\u003eLatitude\\u003c\\u002fb\\u003e:%{y}\\u003cbr\\u003e\\u003cb\\u003eDepth\\u003c\\u002fb\\u003e:%{z}\\u003cbr\\u003e\\u003cb\\u003eAlteration\\u003c\\u002fb\\u003e:ill\\u003cextra\\u003e\\u003c\\u002fextra\\u003e\",\"marker\":{\"color\":\"#800080\",\"opacity\":0.8,\"size\":5},\"mode\":\"markers\",\"name\":\"ill\",\"x\":[208583.588,208583.588,208583.588],\"y\":[9899691.764,9899691.764,9899691.764],\"z\":[\"558-560 \",\"738-740 \",\"758-760 \"],\"type\":\"scatter3d\"},{\"hovertemplate\":\"\\u003cb\\u003eLongitude\\u003c\\u002fb\\u003e:%{x}\\u003cbr\\u003e\\u003cb\\u003eLatitude\\u003c\\u002fb\\u003e:%{y}\\u003cbr\\u003e\\u003cb\\u003eDepth\\u003c\\u002fb\\u003e:%{z}\\u003cbr\\u003e\\u003cb\\u003eAlteration\\u003c\\u002fb\\u003e:Chl:sm\\u003cextra\\u003e\\u003c\\u002fextra\\u003e\",\"marker\":{\"color\":\"#FFFF00\",\"opacity\":0.8,\"size\":5},\"mode\":\"markers\",\"name\":\"Chl:sm\",\"x\":[202777.748,202777.748,202777.748,202777.748],\"y\":[9901245.501,9901245.501,9901245.501,9901245.501],\"z\":[\"872-874\",\"892-894\",\"912-914\",\"952-954\"],\"type\":\"scatter3d\"}],                        {\"template\":{\"data\":{\"histogram2dcontour\":[{\"type\":\"histogram2dcontour\",\"colorbar\":{\"outlinewidth\":0,\"ticks\":\"\"},\"colorscale\":[[0.0,\"#0d0887\"],[0.1111111111111111,\"#46039f\"],[0.2222222222222222,\"#7201a8\"],[0.3333333333333333,\"#9c179e\"],[0.4444444444444444,\"#bd3786\"],[0.5555555555555556,\"#d8576b\"],[0.6666666666666666,\"#ed7953\"],[0.7777777777777778,\"#fb9f3a\"],[0.8888888888888888,\"#fdca26\"],[1.0,\"#f0f921\"]]}],\"choropleth\":[{\"type\":\"choropleth\",\"colorbar\":{\"outlinewidth\":0,\"ticks\":\"\"}}],\"histogram2d\":[{\"type\":\"histogram2d\",\"colorbar\":{\"outlinewidth\":0,\"ticks\":\"\"},\"colorscale\":[[0.0,\"#0d0887\"],[0.1111111111111111,\"#46039f\"],[0.2222222222222222,\"#7201a8\"],[0.3333333333333333,\"#9c179e\"],[0.4444444444444444,\"#bd3786\"],[0.5555555555555556,\"#d8576b\"],[0.6666666666666666,\"#ed7953\"],[0.7777777777777778,\"#fb9f3a\"],[0.8888888888888888,\"#fdca26\"],[1.0,\"#f0f921\"]]}],\"heatmap\":[{\"type\":\"heatmap\",\"colorbar\":{\"outlinewidth\":0,\"ticks\":\"\"},\"colorscale\":[[0.0,\"#0d0887\"],[0.1111111111111111,\"#46039f\"],[0.2222222222222222,\"#7201a8\"],[0.3333333333333333,\"#9c179e\"],[0.4444444444444444,\"#bd3786\"],[0.5555555555555556,\"#d8576b\"],[0.6666666666666666,\"#ed7953\"],[0.7777777777777778,\"#fb9f3a\"],[0.8888888888888888,\"#fdca26\"],[1.0,\"#f0f921\"]]}],\"heatmapgl\":[{\"type\":\"heatmapgl\",\"colorbar\":{\"outlinewidth\":0,\"ticks\":\"\"},\"colorscale\":[[0.0,\"#0d0887\"],[0.1111111111111111,\"#46039f\"],[0.2222222222222222,\"#7201a8\"],[0.3333333333333333,\"#9c179e\"],[0.4444444444444444,\"#bd3786\"],[0.5555555555555556,\"#d8576b\"],[0.6666666666666666,\"#ed7953\"],[0.7777777777777778,\"#fb9f3a\"],[0.8888888888888888,\"#fdca26\"],[1.0,\"#f0f921\"]]}],\"contourcarpet\":[{\"type\":\"contourcarpet\",\"colorbar\":{\"outlinewidth\":0,\"ticks\":\"\"}}],\"contour\":[{\"type\":\"contour\",\"colorbar\":{\"outlinewidth\":0,\"ticks\":\"\"},\"colorscale\":[[0.0,\"#0d0887\"],[0.1111111111111111,\"#46039f\"],[0.2222222222222222,\"#7201a8\"],[0.3333333333333333,\"#9c179e\"],[0.4444444444444444,\"#bd3786\"],[0.5555555555555556,\"#d8576b\"],[0.6666666666666666,\"#ed7953\"],[0.7777777777777778,\"#fb9f3a\"],[0.8888888888888888,\"#fdca26\"],[1.0,\"#f0f921\"]]}],\"surface\":[{\"type\":\"surface\",\"colorbar\":{\"outlinewidth\":0,\"ticks\":\"\"},\"colorscale\":[[0.0,\"#0d0887\"],[0.1111111111111111,\"#46039f\"],[0.2222222222222222,\"#7201a8\"],[0.3333333333333333,\"#9c179e\"],[0.4444444444444444,\"#bd3786\"],[0.5555555555555556,\"#d8576b\"],[0.6666666666666666,\"#ed7953\"],[0.7777777777777778,\"#fb9f3a\"],[0.8888888888888888,\"#fdca26\"],[1.0,\"#f0f921\"]]}],\"mesh3d\":[{\"type\":\"mesh3d\",\"colorbar\":{\"outlinewidth\":0,\"ticks\":\"\"}}],\"scatter\":[{\"fillpattern\":{\"fillmode\":\"overlay\",\"size\":10,\"solidity\":0.2},\"type\":\"scatter\"}],\"parcoords\":[{\"type\":\"parcoords\",\"line\":{\"colorbar\":{\"outlinewidth\":0,\"ticks\":\"\"}}}],\"scatterpolargl\":[{\"type\":\"scatterpolargl\",\"marker\":{\"colorbar\":{\"outlinewidth\":0,\"ticks\":\"\"}}}],\"bar\":[{\"error_x\":{\"color\":\"#2a3f5f\"},\"error_y\":{\"color\":\"#2a3f5f\"},\"marker\":{\"line\":{\"color\":\"#E5ECF6\",\"width\":0.5},\"pattern\":{\"fillmode\":\"overlay\",\"size\":10,\"solidity\":0.2}},\"type\":\"bar\"}],\"scattergeo\":[{\"type\":\"scattergeo\",\"marker\":{\"colorbar\":{\"outlinewidth\":0,\"ticks\":\"\"}}}],\"scatterpolar\":[{\"type\":\"scatterpolar\",\"marker\":{\"colorbar\":{\"outlinewidth\":0,\"ticks\":\"\"}}}],\"histogram\":[{\"marker\":{\"pattern\":{\"fillmode\":\"overlay\",\"size\":10,\"solidity\":0.2}},\"type\":\"histogram\"}],\"scattergl\":[{\"type\":\"scattergl\",\"marker\":{\"colorbar\":{\"outlinewidth\":0,\"ticks\":\"\"}}}],\"scatter3d\":[{\"type\":\"scatter3d\",\"line\":{\"colorbar\":{\"outlinewidth\":0,\"ticks\":\"\"}},\"marker\":{\"colorbar\":{\"outlinewidth\":0,\"ticks\":\"\"}}}],\"scattermapbox\":[{\"type\":\"scattermapbox\",\"marker\":{\"colorbar\":{\"outlinewidth\":0,\"ticks\":\"\"}}}],\"scatterternary\":[{\"type\":\"scatterternary\",\"marker\":{\"colorbar\":{\"outlinewidth\":0,\"ticks\":\"\"}}}],\"scattercarpet\":[{\"type\":\"scattercarpet\",\"marker\":{\"colorbar\":{\"outlinewidth\":0,\"ticks\":\"\"}}}],\"carpet\":[{\"aaxis\":{\"endlinecolor\":\"#2a3f5f\",\"gridcolor\":\"white\",\"linecolor\":\"white\",\"minorgridcolor\":\"white\",\"startlinecolor\":\"#2a3f5f\"},\"baxis\":{\"endlinecolor\":\"#2a3f5f\",\"gridcolor\":\"white\",\"linecolor\":\"white\",\"minorgridcolor\":\"white\",\"startlinecolor\":\"#2a3f5f\"},\"type\":\"carpet\"}],\"table\":[{\"cells\":{\"fill\":{\"color\":\"#EBF0F8\"},\"line\":{\"color\":\"white\"}},\"header\":{\"fill\":{\"color\":\"#C8D4E3\"},\"line\":{\"color\":\"white\"}},\"type\":\"table\"}],\"barpolar\":[{\"marker\":{\"line\":{\"color\":\"#E5ECF6\",\"width\":0.5},\"pattern\":{\"fillmode\":\"overlay\",\"size\":10,\"solidity\":0.2}},\"type\":\"barpolar\"}],\"pie\":[{\"automargin\":true,\"type\":\"pie\"}]},\"layout\":{\"autotypenumbers\":\"strict\",\"colorway\":[\"#636efa\",\"#EF553B\",\"#00cc96\",\"#ab63fa\",\"#FFA15A\",\"#19d3f3\",\"#FF6692\",\"#B6E880\",\"#FF97FF\",\"#FECB52\"],\"font\":{\"color\":\"#2a3f5f\"},\"hovermode\":\"closest\",\"hoverlabel\":{\"align\":\"left\"},\"paper_bgcolor\":\"white\",\"plot_bgcolor\":\"#E5ECF6\",\"polar\":{\"bgcolor\":\"#E5ECF6\",\"angularaxis\":{\"gridcolor\":\"white\",\"linecolor\":\"white\",\"ticks\":\"\"},\"radialaxis\":{\"gridcolor\":\"white\",\"linecolor\":\"white\",\"ticks\":\"\"}},\"ternary\":{\"bgcolor\":\"#E5ECF6\",\"aaxis\":{\"gridcolor\":\"white\",\"linecolor\":\"white\",\"ticks\":\"\"},\"baxis\":{\"gridcolor\":\"white\",\"linecolor\":\"white\",\"ticks\":\"\"},\"caxis\":{\"gridcolor\":\"white\",\"linecolor\":\"white\",\"ticks\":\"\"}},\"coloraxis\":{\"colorbar\":{\"outlinewidth\":0,\"ticks\":\"\"}},\"colorscale\":{\"sequential\":[[0.0,\"#0d0887\"],[0.1111111111111111,\"#46039f\"],[0.2222222222222222,\"#7201a8\"],[0.3333333333333333,\"#9c179e\"],[0.4444444444444444,\"#bd3786\"],[0.5555555555555556,\"#d8576b\"],[0.6666666666666666,\"#ed7953\"],[0.7777777777777778,\"#fb9f3a\"],[0.8888888888888888,\"#fdca26\"],[1.0,\"#f0f921\"]],\"sequentialminus\":[[0.0,\"#0d0887\"],[0.1111111111111111,\"#46039f\"],[0.2222222222222222,\"#7201a8\"],[0.3333333333333333,\"#9c179e\"],[0.4444444444444444,\"#bd3786\"],[0.5555555555555556,\"#d8576b\"],[0.6666666666666666,\"#ed7953\"],[0.7777777777777778,\"#fb9f3a\"],[0.8888888888888888,\"#fdca26\"],[1.0,\"#f0f921\"]],\"diverging\":[[0,\"#8e0152\"],[0.1,\"#c51b7d\"],[0.2,\"#de77ae\"],[0.3,\"#f1b6da\"],[0.4,\"#fde0ef\"],[0.5,\"#f7f7f7\"],[0.6,\"#e6f5d0\"],[0.7,\"#b8e186\"],[0.8,\"#7fbc41\"],[0.9,\"#4d9221\"],[1,\"#276419\"]]},\"xaxis\":{\"gridcolor\":\"white\",\"linecolor\":\"white\",\"ticks\":\"\",\"title\":{\"standoff\":15},\"zerolinecolor\":\"white\",\"automargin\":true,\"zerolinewidth\":2},\"yaxis\":{\"gridcolor\":\"white\",\"linecolor\":\"white\",\"ticks\":\"\",\"title\":{\"standoff\":15},\"zerolinecolor\":\"white\",\"automargin\":true,\"zerolinewidth\":2},\"scene\":{\"xaxis\":{\"backgroundcolor\":\"#E5ECF6\",\"gridcolor\":\"white\",\"linecolor\":\"white\",\"showbackground\":true,\"ticks\":\"\",\"zerolinecolor\":\"white\",\"gridwidth\":2},\"yaxis\":{\"backgroundcolor\":\"#E5ECF6\",\"gridcolor\":\"white\",\"linecolor\":\"white\",\"showbackground\":true,\"ticks\":\"\",\"zerolinecolor\":\"white\",\"gridwidth\":2},\"zaxis\":{\"backgroundcolor\":\"#E5ECF6\",\"gridcolor\":\"white\",\"linecolor\":\"white\",\"showbackground\":true,\"ticks\":\"\",\"zerolinecolor\":\"white\",\"gridwidth\":2}},\"shapedefaults\":{\"line\":{\"color\":\"#2a3f5f\"}},\"annotationdefaults\":{\"arrowcolor\":\"#2a3f5f\",\"arrowhead\":0,\"arrowwidth\":1},\"geo\":{\"bgcolor\":\"white\",\"landcolor\":\"#E5ECF6\",\"subunitcolor\":\"white\",\"showland\":true,\"showlakes\":true,\"lakecolor\":\"white\"},\"title\":{\"x\":0.05},\"mapbox\":{\"style\":\"light\"}}},\"scene\":{\"zaxis\":{\"title\":{\"text\":\"Depth\"},\"autorange\":\"reversed\"},\"xaxis\":{\"title\":{\"text\":\"Longitude\"}},\"yaxis\":{\"title\":{\"text\":\"Latitude\"}}},\"title\":{\"text\":\"Mineral Alteration 3D Visualization\"},\"height\":800,\"width\":1200},                        {\"responsive\": true}                    ).then(function(){\n",
              "                            \n",
              "var gd = document.getElementById('7225b220-effb-456c-a07e-9a8bd47867e9');\n",
              "var x = new MutationObserver(function (mutations, observer) {{\n",
              "        var display = window.getComputedStyle(gd).display;\n",
              "        if (!display || display === 'none') {{\n",
              "            console.log([gd, 'removed!']);\n",
              "            Plotly.purge(gd);\n",
              "            observer.disconnect();\n",
              "        }}\n",
              "}});\n",
              "\n",
              "// Listen for the removal of the full notebook cells\n",
              "var notebookContainer = gd.closest('#notebook-container');\n",
              "if (notebookContainer) {{\n",
              "    x.observe(notebookContainer, {childList: true});\n",
              "}}\n",
              "\n",
              "// Listen for the clearing of the current output cell\n",
              "var outputEl = gd.closest('.output');\n",
              "if (outputEl) {{\n",
              "    x.observe(outputEl, {childList: true});\n",
              "}}\n",
              "\n",
              "                        })                };                            </script>        </div>\n",
              "</body>\n",
              "</html>"
            ]
          },
          "metadata": {}
        }
      ]
    },
    {
      "cell_type": "code",
      "source": [
        "fig.show()"
      ],
      "metadata": {
        "colab": {
          "base_uri": "https://localhost:8080/",
          "height": 817
        },
        "id": "lArV2L6wvF6h",
        "outputId": "d669f8f9-953c-4b3f-e5ec-7a5bab25a945"
      },
      "execution_count": 21,
      "outputs": [
        {
          "output_type": "display_data",
          "data": {
            "text/html": [
              "<html>\n",
              "<head><meta charset=\"utf-8\" /></head>\n",
              "<body>\n",
              "    <div>            <script src=\"https://cdnjs.cloudflare.com/ajax/libs/mathjax/2.7.5/MathJax.js?config=TeX-AMS-MML_SVG\"></script><script type=\"text/javascript\">if (window.MathJax && window.MathJax.Hub && window.MathJax.Hub.Config) {window.MathJax.Hub.Config({SVG: {font: \"STIX-Web\"}});}</script>                <script type=\"text/javascript\">window.PlotlyConfig = {MathJaxConfig: 'local'};</script>\n",
              "        <script charset=\"utf-8\" src=\"https://cdn.plot.ly/plotly-2.35.2.min.js\"></script>                <div id=\"a574f12b-6f07-4eae-acec-8bdf643ab239\" class=\"plotly-graph-div\" style=\"height:800px; width:1200px;\"></div>            <script type=\"text/javascript\">                                    window.PLOTLYENV=window.PLOTLYENV || {};                                    if (document.getElementById(\"a574f12b-6f07-4eae-acec-8bdf643ab239\")) {                    Plotly.newPlot(                        \"a574f12b-6f07-4eae-acec-8bdf643ab239\",                        [{\"hovertemplate\":\"\\u003cb\\u003eLongitude\\u003c\\u002fb\\u003e:%{x}\\u003cbr\\u003e\\u003cb\\u003eLatitude\\u003c\\u002fb\\u003e:%{y}\\u003cbr\\u003e\\u003cb\\u003eDepth\\u003c\\u002fb\\u003e:%{z}\\u003cbr\\u003e\\u003cb\\u003eAlteration\\u003c\\u002fb\\u003e:Sm.\\u003cextra\\u003e\\u003c\\u002fextra\\u003e\",\"marker\":{\"color\":\"#FF0000\",\"opacity\":0.8,\"size\":5},\"mode\":\"markers\",\"name\":\"Sm.\",\"x\":[208583.588,208583.588,208583.588,208583.588,208583.588,202777.748,202777.748,202777.748,202777.748,202777.748,202777.748,202777.748,202777.748,202777.748,202777.748,202777.748,202777.748,202777.748,202777.748,202777.748],\"y\":[9899691.764,9899691.764,9899691.764,9899691.764,9899691.764,9901245.501,9901245.501,9901245.501,9901245.501,9901245.501,9901245.501,9901245.501,9901245.501,9901245.501,9901245.501,9901245.501,9901245.501,9901245.501,9901245.501,9901245.501],\"z\":[\"318-320 \",\"338-340 \",\"358-360 \",\"380-382 \",\"418-420 \",\"332-334\",\"352-354\",\"372-374\",\"392-394\",\"412-414\",\"432-434\",\"472-474\",\"492-494\",\"512-514\",\"572-574\",\"612-614\",\"652-654\",\"812-814\",\"852-854\",\"972-974\"],\"type\":\"scatter3d\"},{\"hovertemplate\":\"\\u003cb\\u003eLongitude\\u003c\\u002fb\\u003e:%{x}\\u003cbr\\u003e\\u003cb\\u003eLatitude\\u003c\\u002fb\\u003e:%{y}\\u003cbr\\u003e\\u003cb\\u003eDepth\\u003c\\u002fb\\u003e:%{z}\\u003cbr\\u003e\\u003cb\\u003eAlteration\\u003c\\u002fb\\u003e:No clear peaks\\u003cextra\\u003e\\u003c\\u002fextra\\u003e\",\"marker\":{\"color\":\"#000000\",\"opacity\":0.8,\"size\":5},\"mode\":\"markers\",\"name\":\"No clear peaks\",\"x\":[208583.588,208583.588,208583.588,208583.588,208583.588,202777.748,202777.748],\"y\":[9899691.764,9899691.764,9899691.764,9899691.764,9899691.764,9901245.501,9901245.501],\"z\":[\"398-400 \",\"538-540 \",\"778-780 \",\"952-960 \",\"978-980 \",\"692-694\",\"712-714\"],\"type\":\"scatter3d\"},{\"hovertemplate\":\"\\u003cb\\u003eLongitude\\u003c\\u002fb\\u003e:%{x}\\u003cbr\\u003e\\u003cb\\u003eLatitude\\u003c\\u002fb\\u003e:%{y}\\u003cbr\\u003e\\u003cb\\u003eDepth\\u003c\\u002fb\\u003e:%{z}\\u003cbr\\u003e\\u003cb\\u003eAlteration\\u003c\\u002fb\\u003e:Chl: ill\\u003cextra\\u003e\\u003c\\u002fextra\\u003e\",\"marker\":{\"color\":\"#000000\",\"opacity\":0.8,\"size\":5},\"mode\":\"markers\",\"name\":\"Chl: ill\",\"x\":[208583.588,208583.588,202777.748,202777.748,202777.748,202777.748],\"y\":[9899691.764,9899691.764,9901245.501,9901245.501,9901245.501,9901245.501],\"z\":[\"438-440 \",\"474-476 \",\"672-674\",\"732-734\",\"752-754\",\"772-774\"],\"type\":\"scatter3d\"},{\"hovertemplate\":\"\\u003cb\\u003eLongitude\\u003c\\u002fb\\u003e:%{x}\\u003cbr\\u003e\\u003cb\\u003eLatitude\\u003c\\u002fb\\u003e:%{y}\\u003cbr\\u003e\\u003cb\\u003eDepth\\u003c\\u002fb\\u003e:%{z}\\u003cbr\\u003e\\u003cb\\u003eAlteration\\u003c\\u002fb\\u003e:ill\\u003cextra\\u003e\\u003c\\u002fextra\\u003e\",\"marker\":{\"color\":\"#800080\",\"opacity\":0.8,\"size\":5},\"mode\":\"markers\",\"name\":\"ill\",\"x\":[208583.588,208583.588,208583.588],\"y\":[9899691.764,9899691.764,9899691.764],\"z\":[\"558-560 \",\"738-740 \",\"758-760 \"],\"type\":\"scatter3d\"},{\"hovertemplate\":\"\\u003cb\\u003eLongitude\\u003c\\u002fb\\u003e:%{x}\\u003cbr\\u003e\\u003cb\\u003eLatitude\\u003c\\u002fb\\u003e:%{y}\\u003cbr\\u003e\\u003cb\\u003eDepth\\u003c\\u002fb\\u003e:%{z}\\u003cbr\\u003e\\u003cb\\u003eAlteration\\u003c\\u002fb\\u003e:Chl:sm\\u003cextra\\u003e\\u003c\\u002fextra\\u003e\",\"marker\":{\"color\":\"#FFFF00\",\"opacity\":0.8,\"size\":5},\"mode\":\"markers\",\"name\":\"Chl:sm\",\"x\":[202777.748,202777.748,202777.748,202777.748],\"y\":[9901245.501,9901245.501,9901245.501,9901245.501],\"z\":[\"872-874\",\"892-894\",\"912-914\",\"952-954\"],\"type\":\"scatter3d\"}],                        {\"template\":{\"data\":{\"histogram2dcontour\":[{\"type\":\"histogram2dcontour\",\"colorbar\":{\"outlinewidth\":0,\"ticks\":\"\"},\"colorscale\":[[0.0,\"#0d0887\"],[0.1111111111111111,\"#46039f\"],[0.2222222222222222,\"#7201a8\"],[0.3333333333333333,\"#9c179e\"],[0.4444444444444444,\"#bd3786\"],[0.5555555555555556,\"#d8576b\"],[0.6666666666666666,\"#ed7953\"],[0.7777777777777778,\"#fb9f3a\"],[0.8888888888888888,\"#fdca26\"],[1.0,\"#f0f921\"]]}],\"choropleth\":[{\"type\":\"choropleth\",\"colorbar\":{\"outlinewidth\":0,\"ticks\":\"\"}}],\"histogram2d\":[{\"type\":\"histogram2d\",\"colorbar\":{\"outlinewidth\":0,\"ticks\":\"\"},\"colorscale\":[[0.0,\"#0d0887\"],[0.1111111111111111,\"#46039f\"],[0.2222222222222222,\"#7201a8\"],[0.3333333333333333,\"#9c179e\"],[0.4444444444444444,\"#bd3786\"],[0.5555555555555556,\"#d8576b\"],[0.6666666666666666,\"#ed7953\"],[0.7777777777777778,\"#fb9f3a\"],[0.8888888888888888,\"#fdca26\"],[1.0,\"#f0f921\"]]}],\"heatmap\":[{\"type\":\"heatmap\",\"colorbar\":{\"outlinewidth\":0,\"ticks\":\"\"},\"colorscale\":[[0.0,\"#0d0887\"],[0.1111111111111111,\"#46039f\"],[0.2222222222222222,\"#7201a8\"],[0.3333333333333333,\"#9c179e\"],[0.4444444444444444,\"#bd3786\"],[0.5555555555555556,\"#d8576b\"],[0.6666666666666666,\"#ed7953\"],[0.7777777777777778,\"#fb9f3a\"],[0.8888888888888888,\"#fdca26\"],[1.0,\"#f0f921\"]]}],\"heatmapgl\":[{\"type\":\"heatmapgl\",\"colorbar\":{\"outlinewidth\":0,\"ticks\":\"\"},\"colorscale\":[[0.0,\"#0d0887\"],[0.1111111111111111,\"#46039f\"],[0.2222222222222222,\"#7201a8\"],[0.3333333333333333,\"#9c179e\"],[0.4444444444444444,\"#bd3786\"],[0.5555555555555556,\"#d8576b\"],[0.6666666666666666,\"#ed7953\"],[0.7777777777777778,\"#fb9f3a\"],[0.8888888888888888,\"#fdca26\"],[1.0,\"#f0f921\"]]}],\"contourcarpet\":[{\"type\":\"contourcarpet\",\"colorbar\":{\"outlinewidth\":0,\"ticks\":\"\"}}],\"contour\":[{\"type\":\"contour\",\"colorbar\":{\"outlinewidth\":0,\"ticks\":\"\"},\"colorscale\":[[0.0,\"#0d0887\"],[0.1111111111111111,\"#46039f\"],[0.2222222222222222,\"#7201a8\"],[0.3333333333333333,\"#9c179e\"],[0.4444444444444444,\"#bd3786\"],[0.5555555555555556,\"#d8576b\"],[0.6666666666666666,\"#ed7953\"],[0.7777777777777778,\"#fb9f3a\"],[0.8888888888888888,\"#fdca26\"],[1.0,\"#f0f921\"]]}],\"surface\":[{\"type\":\"surface\",\"colorbar\":{\"outlinewidth\":0,\"ticks\":\"\"},\"colorscale\":[[0.0,\"#0d0887\"],[0.1111111111111111,\"#46039f\"],[0.2222222222222222,\"#7201a8\"],[0.3333333333333333,\"#9c179e\"],[0.4444444444444444,\"#bd3786\"],[0.5555555555555556,\"#d8576b\"],[0.6666666666666666,\"#ed7953\"],[0.7777777777777778,\"#fb9f3a\"],[0.8888888888888888,\"#fdca26\"],[1.0,\"#f0f921\"]]}],\"mesh3d\":[{\"type\":\"mesh3d\",\"colorbar\":{\"outlinewidth\":0,\"ticks\":\"\"}}],\"scatter\":[{\"fillpattern\":{\"fillmode\":\"overlay\",\"size\":10,\"solidity\":0.2},\"type\":\"scatter\"}],\"parcoords\":[{\"type\":\"parcoords\",\"line\":{\"colorbar\":{\"outlinewidth\":0,\"ticks\":\"\"}}}],\"scatterpolargl\":[{\"type\":\"scatterpolargl\",\"marker\":{\"colorbar\":{\"outlinewidth\":0,\"ticks\":\"\"}}}],\"bar\":[{\"error_x\":{\"color\":\"#2a3f5f\"},\"error_y\":{\"color\":\"#2a3f5f\"},\"marker\":{\"line\":{\"color\":\"#E5ECF6\",\"width\":0.5},\"pattern\":{\"fillmode\":\"overlay\",\"size\":10,\"solidity\":0.2}},\"type\":\"bar\"}],\"scattergeo\":[{\"type\":\"scattergeo\",\"marker\":{\"colorbar\":{\"outlinewidth\":0,\"ticks\":\"\"}}}],\"scatterpolar\":[{\"type\":\"scatterpolar\",\"marker\":{\"colorbar\":{\"outlinewidth\":0,\"ticks\":\"\"}}}],\"histogram\":[{\"marker\":{\"pattern\":{\"fillmode\":\"overlay\",\"size\":10,\"solidity\":0.2}},\"type\":\"histogram\"}],\"scattergl\":[{\"type\":\"scattergl\",\"marker\":{\"colorbar\":{\"outlinewidth\":0,\"ticks\":\"\"}}}],\"scatter3d\":[{\"type\":\"scatter3d\",\"line\":{\"colorbar\":{\"outlinewidth\":0,\"ticks\":\"\"}},\"marker\":{\"colorbar\":{\"outlinewidth\":0,\"ticks\":\"\"}}}],\"scattermapbox\":[{\"type\":\"scattermapbox\",\"marker\":{\"colorbar\":{\"outlinewidth\":0,\"ticks\":\"\"}}}],\"scatterternary\":[{\"type\":\"scatterternary\",\"marker\":{\"colorbar\":{\"outlinewidth\":0,\"ticks\":\"\"}}}],\"scattercarpet\":[{\"type\":\"scattercarpet\",\"marker\":{\"colorbar\":{\"outlinewidth\":0,\"ticks\":\"\"}}}],\"carpet\":[{\"aaxis\":{\"endlinecolor\":\"#2a3f5f\",\"gridcolor\":\"white\",\"linecolor\":\"white\",\"minorgridcolor\":\"white\",\"startlinecolor\":\"#2a3f5f\"},\"baxis\":{\"endlinecolor\":\"#2a3f5f\",\"gridcolor\":\"white\",\"linecolor\":\"white\",\"minorgridcolor\":\"white\",\"startlinecolor\":\"#2a3f5f\"},\"type\":\"carpet\"}],\"table\":[{\"cells\":{\"fill\":{\"color\":\"#EBF0F8\"},\"line\":{\"color\":\"white\"}},\"header\":{\"fill\":{\"color\":\"#C8D4E3\"},\"line\":{\"color\":\"white\"}},\"type\":\"table\"}],\"barpolar\":[{\"marker\":{\"line\":{\"color\":\"#E5ECF6\",\"width\":0.5},\"pattern\":{\"fillmode\":\"overlay\",\"size\":10,\"solidity\":0.2}},\"type\":\"barpolar\"}],\"pie\":[{\"automargin\":true,\"type\":\"pie\"}]},\"layout\":{\"autotypenumbers\":\"strict\",\"colorway\":[\"#636efa\",\"#EF553B\",\"#00cc96\",\"#ab63fa\",\"#FFA15A\",\"#19d3f3\",\"#FF6692\",\"#B6E880\",\"#FF97FF\",\"#FECB52\"],\"font\":{\"color\":\"#2a3f5f\"},\"hovermode\":\"closest\",\"hoverlabel\":{\"align\":\"left\"},\"paper_bgcolor\":\"white\",\"plot_bgcolor\":\"#E5ECF6\",\"polar\":{\"bgcolor\":\"#E5ECF6\",\"angularaxis\":{\"gridcolor\":\"white\",\"linecolor\":\"white\",\"ticks\":\"\"},\"radialaxis\":{\"gridcolor\":\"white\",\"linecolor\":\"white\",\"ticks\":\"\"}},\"ternary\":{\"bgcolor\":\"#E5ECF6\",\"aaxis\":{\"gridcolor\":\"white\",\"linecolor\":\"white\",\"ticks\":\"\"},\"baxis\":{\"gridcolor\":\"white\",\"linecolor\":\"white\",\"ticks\":\"\"},\"caxis\":{\"gridcolor\":\"white\",\"linecolor\":\"white\",\"ticks\":\"\"}},\"coloraxis\":{\"colorbar\":{\"outlinewidth\":0,\"ticks\":\"\"}},\"colorscale\":{\"sequential\":[[0.0,\"#0d0887\"],[0.1111111111111111,\"#46039f\"],[0.2222222222222222,\"#7201a8\"],[0.3333333333333333,\"#9c179e\"],[0.4444444444444444,\"#bd3786\"],[0.5555555555555556,\"#d8576b\"],[0.6666666666666666,\"#ed7953\"],[0.7777777777777778,\"#fb9f3a\"],[0.8888888888888888,\"#fdca26\"],[1.0,\"#f0f921\"]],\"sequentialminus\":[[0.0,\"#0d0887\"],[0.1111111111111111,\"#46039f\"],[0.2222222222222222,\"#7201a8\"],[0.3333333333333333,\"#9c179e\"],[0.4444444444444444,\"#bd3786\"],[0.5555555555555556,\"#d8576b\"],[0.6666666666666666,\"#ed7953\"],[0.7777777777777778,\"#fb9f3a\"],[0.8888888888888888,\"#fdca26\"],[1.0,\"#f0f921\"]],\"diverging\":[[0,\"#8e0152\"],[0.1,\"#c51b7d\"],[0.2,\"#de77ae\"],[0.3,\"#f1b6da\"],[0.4,\"#fde0ef\"],[0.5,\"#f7f7f7\"],[0.6,\"#e6f5d0\"],[0.7,\"#b8e186\"],[0.8,\"#7fbc41\"],[0.9,\"#4d9221\"],[1,\"#276419\"]]},\"xaxis\":{\"gridcolor\":\"white\",\"linecolor\":\"white\",\"ticks\":\"\",\"title\":{\"standoff\":15},\"zerolinecolor\":\"white\",\"automargin\":true,\"zerolinewidth\":2},\"yaxis\":{\"gridcolor\":\"white\",\"linecolor\":\"white\",\"ticks\":\"\",\"title\":{\"standoff\":15},\"zerolinecolor\":\"white\",\"automargin\":true,\"zerolinewidth\":2},\"scene\":{\"xaxis\":{\"backgroundcolor\":\"#E5ECF6\",\"gridcolor\":\"white\",\"linecolor\":\"white\",\"showbackground\":true,\"ticks\":\"\",\"zerolinecolor\":\"white\",\"gridwidth\":2},\"yaxis\":{\"backgroundcolor\":\"#E5ECF6\",\"gridcolor\":\"white\",\"linecolor\":\"white\",\"showbackground\":true,\"ticks\":\"\",\"zerolinecolor\":\"white\",\"gridwidth\":2},\"zaxis\":{\"backgroundcolor\":\"#E5ECF6\",\"gridcolor\":\"white\",\"linecolor\":\"white\",\"showbackground\":true,\"ticks\":\"\",\"zerolinecolor\":\"white\",\"gridwidth\":2}},\"shapedefaults\":{\"line\":{\"color\":\"#2a3f5f\"}},\"annotationdefaults\":{\"arrowcolor\":\"#2a3f5f\",\"arrowhead\":0,\"arrowwidth\":1},\"geo\":{\"bgcolor\":\"white\",\"landcolor\":\"#E5ECF6\",\"subunitcolor\":\"white\",\"showland\":true,\"showlakes\":true,\"lakecolor\":\"white\"},\"title\":{\"x\":0.05},\"mapbox\":{\"style\":\"light\"}}},\"scene\":{\"zaxis\":{\"title\":{\"text\":\"Depth\"},\"autorange\":\"reversed\"},\"xaxis\":{\"title\":{\"text\":\"Longitude\"}},\"yaxis\":{\"title\":{\"text\":\"Latitude\"}}},\"title\":{\"text\":\"Mineral Alteration 3D Visualization\"},\"height\":800,\"width\":1200},                        {\"responsive\": true}                    ).then(function(){\n",
              "                            \n",
              "var gd = document.getElementById('a574f12b-6f07-4eae-acec-8bdf643ab239');\n",
              "var x = new MutationObserver(function (mutations, observer) {{\n",
              "        var display = window.getComputedStyle(gd).display;\n",
              "        if (!display || display === 'none') {{\n",
              "            console.log([gd, 'removed!']);\n",
              "            Plotly.purge(gd);\n",
              "            observer.disconnect();\n",
              "        }}\n",
              "}});\n",
              "\n",
              "// Listen for the removal of the full notebook cells\n",
              "var notebookContainer = gd.closest('#notebook-container');\n",
              "if (notebookContainer) {{\n",
              "    x.observe(notebookContainer, {childList: true});\n",
              "}}\n",
              "\n",
              "// Listen for the clearing of the current output cell\n",
              "var outputEl = gd.closest('.output');\n",
              "if (outputEl) {{\n",
              "    x.observe(outputEl, {childList: true});\n",
              "}}\n",
              "\n",
              "                        })                };                            </script>        </div>\n",
              "</body>\n",
              "</html>"
            ]
          },
          "metadata": {}
        }
      ]
    },
    {
      "cell_type": "code",
      "source": [],
      "metadata": {
        "id": "Uk5Qn5jmvLtt"
      },
      "execution_count": null,
      "outputs": []
    }
  ]
}