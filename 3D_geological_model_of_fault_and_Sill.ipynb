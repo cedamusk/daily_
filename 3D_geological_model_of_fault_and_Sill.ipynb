{
  "nbformat": 4,
  "nbformat_minor": 0,
  "metadata": {
    "colab": {
      "private_outputs": true,
      "provenance": [],
      "authorship_tag": "ABX9TyOZRiI1QTYUtlwLqnXrgcII",
      "include_colab_link": true
    },
    "kernelspec": {
      "name": "python3",
      "display_name": "Python 3"
    },
    "language_info": {
      "name": "python"
    }
  },
  "cells": [
    {
      "cell_type": "markdown",
      "metadata": {
        "id": "view-in-github",
        "colab_type": "text"
      },
      "source": [
        "<a href=\"https://colab.research.google.com/github/cedamusk/daily_/blob/main/3D_geological_model_of_fault_and_Sill.ipynb\" target=\"_parent\"><img src=\"https://colab.research.google.com/assets/colab-badge.svg\" alt=\"Open In Colab\"/></a>"
      ]
    },
    {
      "cell_type": "code",
      "execution_count": null,
      "metadata": {
        "id": "2fa8CHqYNu-j"
      },
      "outputs": [],
      "source": [
        "!pip install geopandas numpy plotly"
      ]
    },
    {
      "cell_type": "code",
      "source": [
        "import geopandas as gpd\n",
        "import numpy as np\n",
        "import plotly.graph_objects as go\n",
        "from shapely.geometry import Polygon, LineString"
      ],
      "metadata": {
        "id": "doIFhe_5RUYi"
      },
      "execution_count": null,
      "outputs": []
    },
    {
      "cell_type": "code",
      "source": [
        "def create_fault_plane(x_range, y_range, z_range, dip_angle, strike_angle):\n",
        "  x=np.linspace(x_range[0], x_range[1], 20)\n",
        "  y=np.linspace(y_range[0], y_range[1], 20)\n",
        "  X, Y=np.meshgrid(x, y)\n",
        "  Z=X*np.tan(np.radians(dip_angle))*np.sin(np.radians(strike_angle))+Y*np.tan(np.radians(dip_angle))*np.cos(np.radians(strike_angle))\n",
        "\n",
        "  return X, Y, Z"
      ],
      "metadata": {
        "id": "6b6y6nsdRxyS"
      },
      "execution_count": null,
      "outputs": []
    },
    {
      "cell_type": "code",
      "source": [
        "def create_sill(x_range, y_range, depth, thickness):\n",
        "  x=np.linspace(x_range[0], x_range[1], 20)\n",
        "  y=np.linspace(y_range[0], y_range[1], 20)\n",
        "  X, Y=np.meshgrid(x, y)\n",
        "  Z_top=np.full(X.shape, depth)\n",
        "  Z_bottom=np.full(X.shape, depth+thickness)\n",
        "  return X, Y, Z_top, Z_bottom"
      ],
      "metadata": {
        "id": "HLTfr6qASqi-"
      },
      "execution_count": null,
      "outputs": []
    },
    {
      "cell_type": "code",
      "source": [
        "geological_data={\n",
        "    'name':['Fault', 'Sill'],\n",
        "    'geometry':[\n",
        "        LineString([(0,0,0), (1000, 1000, 3000)]),\n",
        "        Polygon([(0,0), (1000, 0), (1000, 1000), (0,1000)])\n",
        "    ]\n",
        "}"
      ],
      "metadata": {
        "id": "iVfvuGVpTUYJ"
      },
      "execution_count": null,
      "outputs": []
    },
    {
      "cell_type": "code",
      "source": [
        "gdf=gpd.GeoDataFrame(geological_data, crs='EPSG:4326')"
      ],
      "metadata": {
        "id": "PAkhg2HlUsUi"
      },
      "execution_count": null,
      "outputs": []
    },
    {
      "cell_type": "code",
      "source": [
        "fig=go.Figure()"
      ],
      "metadata": {
        "id": "JVL3yehXVEXL"
      },
      "execution_count": null,
      "outputs": []
    },
    {
      "cell_type": "code",
      "source": [
        "X_fault, Y_fault, Z_fault=create_fault_plane([0,1000], [0,1000], [0, 3000], 60, 45)\n",
        "fig.add_trace(go.Surface(x=X_fault, y=Y_fault, z=Z_fault, colorscale=[[0, 'red'],[1, 'red']], opacity=0.7, name='Fault', showscale=False))"
      ],
      "metadata": {
        "id": "guQrzl2EVHyJ"
      },
      "execution_count": null,
      "outputs": []
    },
    {
      "cell_type": "code",
      "source": [
        "X_sill, Y_sill, Z_sill_top, Z_sill_bottom=create_sill([0,100], [0, 1000], 1500, 100)\n",
        "fig.add_trace(go.Surface(x=X_sill, y=Y_sill, z=Z_sill_top, colorscale=[[0, 'blue'], [1, 'blue']], opacity=0.7, name='Sill (Top)', showscale=False))\n",
        "fig.add_trace(go.Surface(x=X_sill, y=Y_sill, z=Z_sill_bottom, colorscale=[[0, 'blue'], [1,'blue']], opacity=0.7, name='Sill(Bottom)', showscale=False))"
      ],
      "metadata": {
        "id": "Cu1GQTHqV0Dx"
      },
      "execution_count": null,
      "outputs": []
    },
    {
      "cell_type": "code",
      "source": [
        "fig.update_layout(\n",
        "    scene=dict(\n",
        "        xaxis_title=\"X (meters)\",\n",
        "        yaxis_title=\"Y(meters)\",\n",
        "        zaxis_title=\"Depth (meters)\",\n",
        "        aspectmode='manual',\n",
        "        aspectratio=dict(x=1, y=1, z=0.5),\n",
        "        camera=dict(eye=dict(x=1.5, y=-1.5, z=0.5)),\n",
        "    ),\n",
        "    title='3D geological model:Fault and Sill',\n",
        "    height=800,\n",
        ")"
      ],
      "metadata": {
        "id": "kNlSxurZX51b"
      },
      "execution_count": null,
      "outputs": []
    },
    {
      "cell_type": "code",
      "source": [
        "fig.update_scenes(zaxis_autorange='reversed', zaxis_range=[3000, 0])"
      ],
      "metadata": {
        "id": "Q0QJlno5Y-8D"
      },
      "execution_count": null,
      "outputs": []
    },
    {
      "cell_type": "code",
      "source": [
        "fig.show()"
      ],
      "metadata": {
        "id": "m6Ogrjy_Zc8W"
      },
      "execution_count": null,
      "outputs": []
    }
  ]
}